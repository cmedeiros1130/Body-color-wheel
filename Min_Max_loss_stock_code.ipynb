{
  "nbformat": 4,
  "nbformat_minor": 0,
  "metadata": {
    "colab": {
      "provenance": [],
      "authorship_tag": "ABX9TyMAU8oM++82HZoSIfrtj8jq",
      "include_colab_link": true
    },
    "kernelspec": {
      "name": "python3",
      "display_name": "Python 3"
    },
    "language_info": {
      "name": "python"
    }
  },
  "cells": [
    {
      "cell_type": "markdown",
      "metadata": {
        "id": "view-in-github",
        "colab_type": "text"
      },
      "source": [
        "<a href=\"https://colab.research.google.com/github/cmedeiros1130/Body-color-wheel/blob/main/Min_Max_loss_stock_code.ipynb\" target=\"_parent\"><img src=\"https://colab.research.google.com/assets/colab-badge.svg\" alt=\"Open In Colab\"/></a>"
      ]
    },
    {
      "cell_type": "code",
      "execution_count": 7,
      "metadata": {
        "colab": {
          "base_uri": "https://localhost:8080/"
        },
        "id": "l26UWJUN_4x1",
        "outputId": "21c1f7ff-ac50-4fd5-c6ec-9a24801ddd79"
      },
      "outputs": [
        {
          "output_type": "stream",
          "name": "stdout",
          "text": [
            "35\n",
            "-1\n"
          ]
        }
      ],
      "source": [
        "def calculate_stocks(stocks):\n",
        "\n",
        "  prof_list = []\n",
        "  for i in stocks:\n",
        "    pos = stocks.index(i) - 1\n",
        "    while pos >= 0:\n",
        "      prof = i - stocks[pos]\n",
        "      pos -= 1\n",
        "      prof_list.append(prof)\n",
        "\n",
        "  return max(prof_list)\n",
        "\n",
        "profit_stocks = [10,45,13,12,40,2,6]\n",
        "loss_stocks = [44,28,27,22,12,10]\n",
        "\n",
        "print(calculate_stocks(profit_stocks))\n",
        "print(calculate_stocks(loss_stocks))\n",
        "\n",
        ""
      ]
    }
  ]
}